{
 "cells": [
  {
   "cell_type": "markdown",
   "metadata": {},
   "source": [
    "# CNN\\RNN\\LTSM\\双向LSTM\\GRU"
   ]
  },
  {
   "cell_type": "markdown",
   "metadata": {},
   "source": [
    "设置一些常见的超参数\n",
    "把常见模型做成def函数"
   ]
  },
  {
   "cell_type": "markdown",
   "metadata": {},
   "source": [
    "# 导入基础包"
   ]
  },
  {
   "cell_type": "code",
   "execution_count": 4,
   "metadata": {
    "collapsed": true
   },
   "outputs": [],
   "source": [
    "# 两种方法\n",
    "import keras\n",
    "import numpy as np\n",
    "import pandas"
   ]
  },
  {
   "cell_type": "markdown",
   "metadata": {},
   "source": [
    "# 数据导入 \n",
    "以MINIST作为实力样本"
   ]
  },
  {
   "cell_type": "code",
   "execution_count": 1,
   "metadata": {},
   "outputs": [
    {
     "name": "stderr",
     "output_type": "stream",
     "text": [
      "Using TensorFlow backend.\n"
     ]
    }
   ],
   "source": [
    "from keras.utils import np_utils\n",
    "from keras.datasets import mnist"
   ]
  },
  {
   "cell_type": "markdown",
   "metadata": {},
   "source": [
    "# 绘制图像"
   ]
  },
  {
   "cell_type": "code",
   "execution_count": 5,
   "metadata": {
    "collapsed": true
   },
   "outputs": [],
   "source": [
    "# import matplotlib.pyplot as plt\n",
    "from matplotlib import pyplot"
   ]
  },
  {
   "cell_type": "code",
   "execution_count": 6,
   "metadata": {
    "collapsed": true
   },
   "outputs": [],
   "source": [
    "# Sequential按顺序构成的模型\n",
    "from keras.models import Sequential\n",
    "# Dense全连接层\n",
    "from keras.layers import Dense,Activation,Dropout,Convolution2D,MaxPool2D,Flatten\n",
    "\n",
    "# RNN的模型\n",
    "from keras.layers import SimpleRNN,LSTM,GRU\n",
    "# RNN模型\n",
    "from keras.layers import Dense, LSTM, Lambda, TimeDistributed, Input, Masking, Bidirectional\n",
    "\n",
    "# 优化器\n",
    "from keras.optimizers import SGD,Adam"
   ]
  },
  {
   "cell_type": "markdown",
   "metadata": {},
   "source": [
    "# 记录损失值"
   ]
  },
  {
   "cell_type": "code",
   "execution_count": 7,
   "metadata": {
    "collapsed": true
   },
   "outputs": [],
   "source": [
    "from pandas import DataFrame\n",
    "# 准确率\n",
    "results = DataFrame()\n",
    "# 损失值\n",
    "lossresults = DataFrame()"
   ]
  },
  {
   "cell_type": "code",
   "execution_count": null,
   "metadata": {
    "collapsed": true
   },
   "outputs": [],
   "source": [
    "#序列长度 一共28行\n",
    "time_steps=28\n",
    "# 数据长度 一行28个元素\n",
    "input_size=28\n",
    "#隐藏层 size 50\n",
    "cell_size=50\n",
    "\n",
    "model=Sequential()\n",
    "model.add(Bidirectional(LSTM(cell_size,input_shape=(time_steps,input_size),return_sequences=False)\n",
    "                        ,merge_mode='concat'))\n",
    "model.add(Dense(10,activation='softmax'))\n",
    "\n",
    "#编译模型\n",
    "model.compile(optimizer='adam',loss='categorical_crossentropy',metrics=['accuracy'])\n",
    "\n",
    "#训练模型\n",
    "hist=model.fit(x_train,y_train1,batch_size=500,nb_epoch=3)\n",
    "#查看网络结构\n",
    "model.summary()\n",
    "\n",
    "\n",
    "\n"
   ]
  },
  {
   "cell_type": "code",
   "execution_count": 32,
   "metadata": {
    "collapsed": true
   },
   "outputs": [],
   "source": [
    "# 例如\n",
    "# （a,b）\n",
    "# a是样本数,b是特征值 这个特征值一般都是卷积核/序列长度这些\n",
    "\n",
    "# 卷积核\n",
    "cnn_steps=28\n",
    "#序列长度 一共28行\n",
    "time_steps=28\n",
    "# 数据长度 一行28个元素\n",
    "input_size=28\n",
    "#隐藏层 size 50\n",
    "cell_size=50\n",
    "# 通道数\n",
    "rgb=3\n",
    "\n",
    "\n",
    "'''\n",
    "# sum merge\n",
    "# mul merge\n",
    "# avg merge\n",
    "# concat merge\n",
    "'''\n",
    "i=1\n",
    "modelList=['sum','mul','ave','concat']\n",
    "mode=modelList[i]\n",
    "\n",
    "BATCH_SIZE=500\n",
    "EPOCH=3\n",
    "\n",
    "#这是MINIST的分类数\n",
    "NUM_CLASS=10"
   ]
  },
  {
   "cell_type": "markdown",
   "metadata": {},
   "source": [
    "# RNN的数据集划分"
   ]
  },
  {
   "cell_type": "code",
   "execution_count": 24,
   "metadata": {},
   "outputs": [
    {
     "name": "stdout",
     "output_type": "stream",
     "text": [
      "xtrain (60000, 28, 28)\n",
      "ytrain (60000,)\n",
      "xtest (10000, 28, 28)\n",
      "ytest (10000,)\n",
      "============================\n",
      "xtrain (60000, 28, 28)\n",
      "xtest (10000, 28, 28)\n",
      "ytrain (60000,)\n",
      "ytest (10000,)\n"
     ]
    }
   ],
   "source": [
    "\n",
    "# 载入数据\n",
    "(x_train,y_train),(x_test,y_test)=mnist.load_data()\n",
    "\n",
    "print('xtrain',x_train.shape)\n",
    "print('ytrain',y_train.shape)\n",
    "print('xtest',x_test.shape)\n",
    "print('ytest',y_test.shape)\n",
    "\n",
    "# -1是自动转换，255.0是为了归一化\n",
    "# (60000, 28, 28)->(60000, 28,28,1)转化形式\n",
    "x_train1=x_train/255.0\n",
    "x_test1=x_test/255.0\n",
    "\n",
    "print('='*28)\n",
    "print('xtrain',x_train1.shape)\n",
    "print('xtest',x_test1.shape)\n",
    "print('ytrain',y_train.shape)\n",
    "print('ytest',y_test.shape)\n"
   ]
  },
  {
   "cell_type": "markdown",
   "metadata": {},
   "source": [
    "# CNN数据集划分"
   ]
  },
  {
   "cell_type": "code",
   "execution_count": 25,
   "metadata": {},
   "outputs": [
    {
     "name": "stdout",
     "output_type": "stream",
     "text": [
      "xtrain (60000, 28, 28, 1)\n",
      "xtest (10000, 28, 28, 1)\n"
     ]
    }
   ],
   "source": [
    "# # 载入数据\n",
    "# (x_train,y_train),(x_test,y_test)=mnist.load_data()\n",
    "\n",
    "# print('xtrain',x_train.shape)\n",
    "# print('ytrain',y_train.shape)\n",
    "\n",
    "# -1是自动转换，255.0是为了归一化\n",
    "# (60000, 28, 28)->(60000, 28,28,1)转化形式\n",
    "x_train2=x_train.reshape(-1,28,28,1)/255.0\n",
    "x_test2=x_test.reshape(-1,28,28,1)/255.0\n",
    "\n",
    "print('xtrain',x_train2.shape)\n",
    "print('xtest',x_test2.shape)"
   ]
  },
  {
   "cell_type": "code",
   "execution_count": 21,
   "metadata": {},
   "outputs": [],
   "source": [
    "# 转化成one-hot格式\n",
    "y_train1=np_utils.to_categorical(y_train,num_classes=NUM_CLASS)\n",
    "y_test1=np_utils.to_categorical(y_test,num_classes=NUM_CLASS)"
   ]
  },
  {
   "cell_type": "code",
   "execution_count": 23,
   "metadata": {},
   "outputs": [
    {
     "name": "stdout",
     "output_type": "stream",
     "text": [
      "RNN类型的训练 (60000, 10)\n",
      "RNN模型的测试 (10000, 10)\n"
     ]
    }
   ],
   "source": [
    "print('RNN类型的训练',y_train1.shape)\n",
    "print('RNN模型的测试',y_test1.shape)"
   ]
  },
  {
   "cell_type": "code",
   "execution_count": 26,
   "metadata": {
    "collapsed": true
   },
   "outputs": [],
   "source": [
    "def get_bi_lstm_model(timesteps,input_size,cell_size,BATCH_SIZE,EPOCH, mode):\n",
    "    print('连接模式是：',mode)\n",
    "    model = Sequential()\n",
    "#     model.add(Bidirectional(LSTM(20, return_sequences=True), input_shape=(timesteps, 1), merge_mode=mode))\n",
    "    model.add(Bidirectional(LSTM(cell_size,input_shape=(time_steps,input_size),return_sequences=False)\n",
    "                        ,merge_mode=mode))\n",
    "#     model.add(TimeDistributed(Dense(1, activation='sigmoid')))\n",
    "    model.add(Dense(10,activation='softmax'))\n",
    "    #编译模型\n",
    "    model.compile(optimizer='adam',loss='categorical_crossentropy',metrics=['accuracy'])\n",
    "    #训练模型\n",
    "    hist=model.fit(x_train1,y_train1,batch_size=BATCH_SIZE,nb_epoch=EPOCH)\n",
    "    #查看网络结构\n",
    "    model.summary()\n",
    "    loss=hist.history['loss']\n",
    "    accuracy=hist.history['accuracy']\n",
    "    return loss,accuracy"
   ]
  },
  {
   "cell_type": "code",
   "execution_count": 29,
   "metadata": {},
   "outputs": [
    {
     "name": "stdout",
     "output_type": "stream",
     "text": [
      "连接模式是： mul\n"
     ]
    },
    {
     "name": "stderr",
     "output_type": "stream",
     "text": [
      "C:\\anaconda\\lib\\site-packages\\ipykernel_launcher.py:12: UserWarning: The `nb_epoch` argument in `fit` has been renamed `epochs`.\n",
      "  if sys.path[0] == '':\n"
     ]
    },
    {
     "name": "stdout",
     "output_type": "stream",
     "text": [
      "Epoch 1/3\n",
      "60000/60000 [==============================] - 25s 416us/step - loss: 1.4446 - accuracy: 0.5234\n",
      "Epoch 2/3\n",
      "60000/60000 [==============================] - 24s 400us/step - loss: 0.4596 - accuracy: 0.8596\n",
      "Epoch 3/3\n",
      "60000/60000 [==============================] - 23s 387us/step - loss: 0.2791 - accuracy: 0.9168\n",
      "Model: \"sequential_6\"\n",
      "_________________________________________________________________\n",
      "Layer (type)                 Output Shape              Param #   \n",
      "=================================================================\n",
      "bidirectional_4 (Bidirection (None, 50)                31600     \n",
      "_________________________________________________________________\n",
      "dense_4 (Dense)              (None, 10)                510       \n",
      "=================================================================\n",
      "Total params: 32,110\n",
      "Trainable params: 32,110\n",
      "Non-trainable params: 0\n",
      "_________________________________________________________________\n"
     ]
    }
   ],
   "source": [
    "lossresults['mul_bi_lstm'],results['mul_bi_lstm']=get_bi_lstm_model(time_steps,input_size,cell_size,BATCH_SIZE,EPOCH,\"mul\")\n",
    "# hist3.history['accuracy']\n",
    "# =hist3.history['loss']"
   ]
  },
  {
   "cell_type": "code",
   "execution_count": 30,
   "metadata": {},
   "outputs": [
    {
     "name": "stdout",
     "output_type": "stream",
     "text": [
      "连接模式是： sum\n"
     ]
    },
    {
     "name": "stderr",
     "output_type": "stream",
     "text": [
      "C:\\anaconda\\lib\\site-packages\\ipykernel_launcher.py:12: UserWarning: The `nb_epoch` argument in `fit` has been renamed `epochs`.\n",
      "  if sys.path[0] == '':\n"
     ]
    },
    {
     "name": "stdout",
     "output_type": "stream",
     "text": [
      "Epoch 1/3\n",
      "60000/60000 [==============================] - 24s 399us/step - loss: 1.2310 - accuracy: 0.5921\n",
      "Epoch 2/3\n",
      "60000/60000 [==============================] - 23s 382us/step - loss: 0.3091 - accuracy: 0.9063\n",
      "Epoch 3/3\n",
      "60000/60000 [==============================] - 23s 386us/step - loss: 0.1880 - accuracy: 0.9437\n",
      "Model: \"sequential_7\"\n",
      "_________________________________________________________________\n",
      "Layer (type)                 Output Shape              Param #   \n",
      "=================================================================\n",
      "bidirectional_5 (Bidirection (None, 50)                31600     \n",
      "_________________________________________________________________\n",
      "dense_5 (Dense)              (None, 10)                510       \n",
      "=================================================================\n",
      "Total params: 32,110\n",
      "Trainable params: 32,110\n",
      "Non-trainable params: 0\n",
      "_________________________________________________________________\n"
     ]
    }
   ],
   "source": [
    "lossresults['sum_bi_lstm'],results['sum_bi_lstm']=get_bi_lstm_model(time_steps,input_size\n",
    "                                                                    ,cell_size\n",
    "                                                                    ,BATCH_SIZE,EPOCH,\"sum\")\n",
    "# hist3.history['accuracy']\n",
    "# =hist3.history['loss']"
   ]
  },
  {
   "cell_type": "code",
   "execution_count": 33,
   "metadata": {},
   "outputs": [
    {
     "name": "stdout",
     "output_type": "stream",
     "text": [
      "连接模式是： ave\n"
     ]
    },
    {
     "name": "stderr",
     "output_type": "stream",
     "text": [
      "C:\\anaconda\\lib\\site-packages\\ipykernel_launcher.py:12: UserWarning: The `nb_epoch` argument in `fit` has been renamed `epochs`.\n",
      "  if sys.path[0] == '':\n"
     ]
    },
    {
     "name": "stdout",
     "output_type": "stream",
     "text": [
      "Epoch 1/3\n",
      "60000/60000 [==============================] - 24s 406us/step - loss: 1.3449 - accuracy: 0.5785\n",
      "Epoch 2/3\n",
      "60000/60000 [==============================] - 23s 381us/step - loss: 0.3810 - accuracy: 0.8944\n",
      "Epoch 3/3\n",
      "60000/60000 [==============================] - 24s 403us/step - loss: 0.2252 - accuracy: 0.9362\n",
      "Model: \"sequential_9\"\n",
      "_________________________________________________________________\n",
      "Layer (type)                 Output Shape              Param #   \n",
      "=================================================================\n",
      "bidirectional_6 (Bidirection (None, 50)                31600     \n",
      "_________________________________________________________________\n",
      "dense_6 (Dense)              (None, 10)                510       \n",
      "=================================================================\n",
      "Total params: 32,110\n",
      "Trainable params: 32,110\n",
      "Non-trainable params: 0\n",
      "_________________________________________________________________\n"
     ]
    }
   ],
   "source": [
    "lossresults['ave_bi_lstm'],results['ave_bi_lstm']=get_bi_lstm_model(time_steps,input_size\n",
    "                                                                    ,cell_size\n",
    "                                                                    ,BATCH_SIZE,EPOCH,\"ave\")\n",
    "# hist3.history['accuracy']\n",
    "# =hist3.history['loss']"
   ]
  },
  {
   "cell_type": "code",
   "execution_count": 34,
   "metadata": {},
   "outputs": [
    {
     "name": "stdout",
     "output_type": "stream",
     "text": [
      "连接模式是： concat\n"
     ]
    },
    {
     "name": "stderr",
     "output_type": "stream",
     "text": [
      "C:\\anaconda\\lib\\site-packages\\ipykernel_launcher.py:12: UserWarning: The `nb_epoch` argument in `fit` has been renamed `epochs`.\n",
      "  if sys.path[0] == '':\n"
     ]
    },
    {
     "name": "stdout",
     "output_type": "stream",
     "text": [
      "Epoch 1/3\n",
      "60000/60000 [==============================] - 26s 428us/step - loss: 1.2794 - accuracy: 0.5989\n",
      "Epoch 2/3\n",
      "60000/60000 [==============================] - 24s 405us/step - loss: 0.3393 - accuracy: 0.8984\n",
      "Epoch 3/3\n",
      "60000/60000 [==============================] - 24s 394us/step - loss: 0.2026 - accuracy: 0.9391\n",
      "Model: \"sequential_10\"\n",
      "_________________________________________________________________\n",
      "Layer (type)                 Output Shape              Param #   \n",
      "=================================================================\n",
      "bidirectional_7 (Bidirection (None, 100)               31600     \n",
      "_________________________________________________________________\n",
      "dense_7 (Dense)              (None, 10)                1010      \n",
      "=================================================================\n",
      "Total params: 32,610\n",
      "Trainable params: 32,610\n",
      "Non-trainable params: 0\n",
      "_________________________________________________________________\n"
     ]
    }
   ],
   "source": [
    "lossresults['concat_bi_lstm'],results['concat_bi_lstm']=get_bi_lstm_model(time_steps,input_size\n",
    "                                                                    ,cell_size\n",
    "                                                                    ,BATCH_SIZE,EPOCH,\"concat\")\n",
    "# hist3.history['accuracy']\n",
    "# =hist3.history['loss']"
   ]
  },
  {
   "cell_type": "code",
   "execution_count": 45,
   "metadata": {
    "collapsed": true
   },
   "outputs": [],
   "source": [
    "#parameters for LSTM\n",
    "nb_lstm_outputs = 50  #神经元个数\n",
    "nb_time_steps = 28  #时间序列长度\n",
    "nb_input_vector = 28 #输入序列"
   ]
  },
  {
   "cell_type": "code",
   "execution_count": 35,
   "metadata": {
    "collapsed": true
   },
   "outputs": [],
   "source": [
    "def get_lstm_model(nb_time_steps,nb_input_vector,nb_lstm_outputs,NUM_CLASS,BATCH_SIZE,EPOCH):\n",
    "    print('运行模式是：','lstm')\n",
    "     #build model\n",
    "    model = Sequential()\n",
    "    model.add(LSTM(units=nb_lstm_outputs, input_shape=(nb_time_steps, nb_input_vector)))\n",
    "    model.add(Dense(NUM_CLASS, activation='softmax'))\n",
    "    \n",
    "#     model = Sequential()\n",
    "# #     model.add(Bidirectional(LSTM(20, return_sequences=True), input_shape=(timesteps, 1), merge_mode=mode))\n",
    "#     model.add(Bidirectional(LSTM(cell_size,input_shape=(time_steps,input_size),return_sequences=False)\n",
    "#                         ,merge_mode=mode))\n",
    "# #     model.add(TimeDistributed(Dense(1, activation='sigmoid')))\n",
    "#     model.add(Dense(10,activation='softmax'))\n",
    "    #编译模型\n",
    "    model.compile(optimizer='adam',loss='categorical_crossentropy',metrics=['accuracy'])\n",
    "    #训练模型\n",
    "    hist=model.fit(x_train1,y_train1,batch_size=BATCH_SIZE,nb_epoch=EPOCH)\n",
    "    #查看网络结构\n",
    "    model.summary()\n",
    "    loss=hist.history['loss']\n",
    "    accuracy=hist.history['accuracy']\n",
    "    return loss,accuracy"
   ]
  },
  {
   "cell_type": "code",
   "execution_count": 37,
   "metadata": {},
   "outputs": [
    {
     "name": "stdout",
     "output_type": "stream",
     "text": [
      "连接模式是： lstm\n"
     ]
    },
    {
     "name": "stderr",
     "output_type": "stream",
     "text": [
      "C:\\anaconda\\lib\\site-packages\\ipykernel_launcher.py:17: UserWarning: The `nb_epoch` argument in `fit` has been renamed `epochs`.\n"
     ]
    },
    {
     "name": "stdout",
     "output_type": "stream",
     "text": [
      "Epoch 1/3\n",
      "60000/60000 [==============================] - 14s 228us/step - loss: 1.5166 - accuracy: 0.4852\n",
      "Epoch 2/3\n",
      "60000/60000 [==============================] - 14s 232us/step - loss: 0.5278 - accuracy: 0.8436\n",
      "Epoch 3/3\n",
      "60000/60000 [==============================] - 15s 245us/step - loss: 0.3072 - accuracy: 0.9100\n",
      "Model: \"sequential_11\"\n",
      "_________________________________________________________________\n",
      "Layer (type)                 Output Shape              Param #   \n",
      "=================================================================\n",
      "lstm_11 (LSTM)               (None, 50)                15800     \n",
      "_________________________________________________________________\n",
      "dense_8 (Dense)              (None, 10)                510       \n",
      "=================================================================\n",
      "Total params: 16,310\n",
      "Trainable params: 16,310\n",
      "Non-trainable params: 0\n",
      "_________________________________________________________________\n"
     ]
    }
   ],
   "source": [
    "lossresults['lstm'],results['lstm']=get_lstm_model(nb_time_steps,nb_input_vector,nb_lstm_outputs,\n",
    "                                                  NUM_CLASS,BATCH_SIZE,EPOCH)\n",
    "# hist3.history['accuracy']\n",
    "# =hist3.history['loss']"
   ]
  },
  {
   "cell_type": "code",
   "execution_count": 46,
   "metadata": {
    "collapsed": true
   },
   "outputs": [],
   "source": [
    "# GRU 的参数\n",
    "CELL_SIZE = 50\n",
    "TIME_STEPS = 28\n",
    "INPUT_SIZE = 28\n"
   ]
  },
  {
   "cell_type": "code",
   "execution_count": 47,
   "metadata": {
    "collapsed": true
   },
   "outputs": [],
   "source": [
    "def get_gru_model(TIME_STEPS,INPUT_SIZE ,CELL_SIZE,NUM_CLASS,BATCH_SIZE,EPOCH):\n",
    "    print('运行模式是：','GRU')\n",
    "#      #build model\n",
    "#     model = Sequential()\n",
    "#     model.add(LSTM(units=nb_lstm_outputs, input_shape=(nb_time_steps, nb_input_vector)))\n",
    "#     model.add(Dense(NUM_CLASS, activation='softmax'))\n",
    "    \n",
    "     #build model\n",
    "        # model.add(LSTM(units=nb_lstm_outputs, input_shape=(nb_time_steps, nb_input_vector)))\n",
    "# model.add(Dense(2, activation='softmax'))\n",
    "\n",
    "\n",
    "# x = GRU(CELL_SIZE, input_shape = (TIME_STEPS,INPUT_SIZE))(inputs)\n",
    "# x = Dense(OUTPUT_SIZE)(x)\n",
    "# x = Activation(\"softmax\")(x)\n",
    "    model = Sequential()\n",
    "\n",
    "    model.add(GRU(units=CELL_SIZE, input_shape=(TIME_STEPS, INPUT_SIZE)))\n",
    "    \n",
    "#     model = Sequential()\n",
    "# #     model.add(Bidirectional(LSTM(20, return_sequences=True), input_shape=(timesteps, 1), merge_mode=mode))\n",
    "#     model.add(Bidirectional(LSTM(cell_size,input_shape=(time_steps,input_size),return_sequences=False)\n",
    "#                         ,merge_mode=mode))\n",
    "# #     model.add(TimeDistributed(Dense(1, activation='sigmoid')))\n",
    "    model.add(Dense(NUM_CLASS,activation='softmax'))\n",
    "    #编译模型\n",
    "    model.compile(optimizer='adam',loss='categorical_crossentropy',metrics=['accuracy'])\n",
    "    #训练模型\n",
    "    hist=model.fit(x_train1,y_train1,batch_size=BATCH_SIZE,nb_epoch=EPOCH)\n",
    "    #查看网络结构\n",
    "    model.summary()\n",
    "    loss=hist.history['loss']\n",
    "    accuracy=hist.history['accuracy']\n",
    "    return loss,accuracy"
   ]
  },
  {
   "cell_type": "code",
   "execution_count": 48,
   "metadata": {},
   "outputs": [
    {
     "name": "stdout",
     "output_type": "stream",
     "text": [
      "运行模式是： GRU\n"
     ]
    },
    {
     "name": "stderr",
     "output_type": "stream",
     "text": [
      "C:\\anaconda\\lib\\site-packages\\ipykernel_launcher.py:29: UserWarning: The `nb_epoch` argument in `fit` has been renamed `epochs`.\n"
     ]
    },
    {
     "name": "stdout",
     "output_type": "stream",
     "text": [
      "Epoch 1/3\n",
      "60000/60000 [==============================] - 13s 211us/step - loss: 1.7194 - accuracy: 0.4108\n",
      "Epoch 2/3\n",
      "60000/60000 [==============================] - 12s 197us/step - loss: 0.6621 - accuracy: 0.7871\n",
      "Epoch 3/3\n",
      "60000/60000 [==============================] - 14s 239us/step - loss: 0.3469 - accuracy: 0.8986\n",
      "Model: \"sequential_13\"\n",
      "_________________________________________________________________\n",
      "Layer (type)                 Output Shape              Param #   \n",
      "=================================================================\n",
      "gru_2 (GRU)                  (None, 50)                11850     \n",
      "_________________________________________________________________\n",
      "dense_10 (Dense)             (None, 10)                510       \n",
      "=================================================================\n",
      "Total params: 12,360\n",
      "Trainable params: 12,360\n",
      "Non-trainable params: 0\n",
      "_________________________________________________________________\n"
     ]
    }
   ],
   "source": [
    "lossresults['gru'],results['gru']=get_gru_model(TIME_STEPS,INPUT_SIZE ,CELL_SIZE,NUM_CLASS,BATCH_SIZE,EPOCH)"
   ]
  },
  {
   "cell_type": "code",
   "execution_count": 49,
   "metadata": {
    "collapsed": true
   },
   "outputs": [],
   "source": [
    "#序列长度 一共28行\n",
    "time_steps=28\n",
    "# 数据长度 一行28个元素\n",
    "input_size=28\n",
    "#隐藏层 size 50\n",
    "cell_size=50"
   ]
  },
  {
   "cell_type": "code",
   "execution_count": 50,
   "metadata": {
    "collapsed": true
   },
   "outputs": [],
   "source": [
    "def get_rnn_model(time_steps,input_size ,cell_size,NUM_CLASS,BATCH_SIZE,EPOCH):\n",
    "    print('运行模式是：','RNN')\n",
    "    # 创建模型,输入784个神经元，输出10个神经元\n",
    "    model=Sequential(\n",
    "    # [Dense(units=10,input_dim=784,bias_initializer='one',activation='softmax')]\n",
    "    )\n",
    "    # 第一个卷积层\n",
    "\n",
    "\n",
    "    model.add(\n",
    "    SimpleRNN(\n",
    "    units=cell_size , # 输出\n",
    "    input_shape=(time_steps,input_size)    # 输入\n",
    "    ))\n",
    "\n",
    "#     model.add(\n",
    "#     Dense(2,activation='softmax')\n",
    "#     )\n",
    "    model.add(Dense(NUM_CLASS,activation='softmax'))\n",
    "    #编译模型\n",
    "    model.compile(optimizer='adam',loss='categorical_crossentropy',metrics=['accuracy'])\n",
    "    #训练模型\n",
    "    hist=model.fit(x_train1,y_train1,batch_size=BATCH_SIZE,nb_epoch=EPOCH)\n",
    "    #查看网络结构\n",
    "    model.summary()\n",
    "    loss=hist.history['loss']\n",
    "    accuracy=hist.history['accuracy']\n",
    "    return loss,accuracy"
   ]
  },
  {
   "cell_type": "code",
   "execution_count": 51,
   "metadata": {
    "scrolled": true
   },
   "outputs": [
    {
     "name": "stdout",
     "output_type": "stream",
     "text": [
      "运行模式是： RNN\n"
     ]
    },
    {
     "name": "stderr",
     "output_type": "stream",
     "text": [
      "C:\\anaconda\\lib\\site-packages\\ipykernel_launcher.py:23: UserWarning: The `nb_epoch` argument in `fit` has been renamed `epochs`.\n"
     ]
    },
    {
     "name": "stdout",
     "output_type": "stream",
     "text": [
      "Epoch 1/3\n",
      "60000/60000 [==============================] - 5s 76us/step - loss: 1.3359 - accuracy: 0.5638\n",
      "Epoch 2/3\n",
      "60000/60000 [==============================] - 4s 69us/step - loss: 0.6563 - accuracy: 0.7936\n",
      "Epoch 3/3\n",
      "60000/60000 [==============================] - 4s 70us/step - loss: 0.4812 - accuracy: 0.8544\n",
      "Model: \"sequential_14\"\n",
      "_________________________________________________________________\n",
      "Layer (type)                 Output Shape              Param #   \n",
      "=================================================================\n",
      "simple_rnn_1 (SimpleRNN)     (None, 50)                3950      \n",
      "_________________________________________________________________\n",
      "dense_11 (Dense)             (None, 10)                510       \n",
      "=================================================================\n",
      "Total params: 4,460\n",
      "Trainable params: 4,460\n",
      "Non-trainable params: 0\n",
      "_________________________________________________________________\n"
     ]
    }
   ],
   "source": [
    "lossresults['rnn'],results['rnn']=get_rnn_model(TIME_STEPS,INPUT_SIZE ,CELL_SIZE,NUM_CLASS,BATCH_SIZE,EPOCH)"
   ]
  },
  {
   "cell_type": "code",
   "execution_count": 58,
   "metadata": {
    "collapsed": true
   },
   "outputs": [],
   "source": [
    "# 卷积核\n",
    "cnn_steps=28\n",
    "# 数据长度 一行28个元素\n",
    "input_size=28\n",
    "#隐藏层 size 50\n",
    "cell_size=50\n",
    "# 通道数\n",
    "# 这是一个三色道\n",
    "rgb=1"
   ]
  },
  {
   "cell_type": "code",
   "execution_count": 59,
   "metadata": {
    "collapsed": true
   },
   "outputs": [],
   "source": [
    "def get_cnn_model(cnn_steps,input_size,cell_size,rgb,NUM_CLASS,BATCH_SIZE,EPOCH):\n",
    "    print('运行模式是：','CNN')\n",
    "    # 创建模型,输入784个神经元，输出10个神经元\n",
    "    model=Sequential(\n",
    "    # [Dense(units=10,input_dim=784,bias_initializer='one',activation='softmax')]\n",
    "    )\n",
    "    # 第一个卷积层\n",
    "    model.add(\n",
    "    Convolution2D(input_shape=(cnn_steps,input_size,rgb),filters=32,\n",
    "    kernel_size=5,\n",
    "    strides=1,\n",
    "    padding='same',\n",
    "    activation='relu'\n",
    "    )\n",
    "    )\n",
    "    model.add(\n",
    "    MaxPool2D(\n",
    "    pool_size=2, strides=2, padding='same'\n",
    "    )\n",
    "    )\n",
    "    # 第二个卷积层\n",
    "    model.add(\n",
    "    Convolution2D(\n",
    "    64,\n",
    "    5,\n",
    "    strides=1,\n",
    "    padding='same',\n",
    "    activation='relu'\n",
    "    )\n",
    "    )\n",
    "    model.add(\n",
    "    MaxPool2D(\n",
    "    2,2, 'same'\n",
    "    )\n",
    "    )\n",
    "    model.add(Flatten())\n",
    "    model.add(\n",
    "    Dense(1024,activation='relu')\n",
    "    )\n",
    "    model.add(\n",
    "    Dropout(0.4)\n",
    "    )\n",
    "    model.add(Dense(NUM_CLASS,activation='softmax'))\n",
    "    #编译模型\n",
    "    model.compile(optimizer='adam',loss='categorical_crossentropy',metrics=['accuracy'])\n",
    "    #训练模型\n",
    "    hist=model.fit(x_train2,y_train1,batch_size=BATCH_SIZE,nb_epoch=EPOCH)\n",
    "    #查看网络结构\n",
    "    model.summary()\n",
    "    loss=hist.history['loss']\n",
    "    accuracy=hist.history['accuracy']\n",
    "    return loss,accuracy"
   ]
  },
  {
   "cell_type": "code",
   "execution_count": 60,
   "metadata": {},
   "outputs": [
    {
     "name": "stdout",
     "output_type": "stream",
     "text": [
      "运行模式是： CNN\n"
     ]
    },
    {
     "name": "stderr",
     "output_type": "stream",
     "text": [
      "C:\\anaconda\\lib\\site-packages\\ipykernel_launcher.py:47: UserWarning: The `nb_epoch` argument in `fit` has been renamed `epochs`.\n"
     ]
    },
    {
     "name": "stdout",
     "output_type": "stream",
     "text": [
      "Epoch 1/3\n",
      "60000/60000 [==============================] - 145s 2ms/step - loss: 0.2660 - accuracy: 0.9218\n",
      "Epoch 2/3\n",
      "60000/60000 [==============================] - 141s 2ms/step - loss: 0.0596 - accuracy: 0.9814\n",
      "Epoch 3/3\n",
      "60000/60000 [==============================] - 143s 2ms/step - loss: 0.0427 - accuracy: 0.9864\n",
      "Model: \"sequential_17\"\n",
      "_________________________________________________________________\n",
      "Layer (type)                 Output Shape              Param #   \n",
      "=================================================================\n",
      "conv2d_3 (Conv2D)            (None, 28, 28, 32)        832       \n",
      "_________________________________________________________________\n",
      "max_pooling2d_3 (MaxPooling2 (None, 14, 14, 32)        0         \n",
      "_________________________________________________________________\n",
      "conv2d_4 (Conv2D)            (None, 14, 14, 64)        51264     \n",
      "_________________________________________________________________\n",
      "max_pooling2d_4 (MaxPooling2 (None, 7, 7, 64)          0         \n",
      "_________________________________________________________________\n",
      "flatten_2 (Flatten)          (None, 3136)              0         \n",
      "_________________________________________________________________\n",
      "dense_14 (Dense)             (None, 1024)              3212288   \n",
      "_________________________________________________________________\n",
      "dropout_2 (Dropout)          (None, 1024)              0         \n",
      "_________________________________________________________________\n",
      "dense_15 (Dense)             (None, 10)                10250     \n",
      "=================================================================\n",
      "Total params: 3,274,634\n",
      "Trainable params: 3,274,634\n",
      "Non-trainable params: 0\n",
      "_________________________________________________________________\n"
     ]
    }
   ],
   "source": [
    "lossresults['cnn'],results['cnn']=get_cnn_model(cnn_steps,input_size,cell_size,rgb,NUM_CLASS,BATCH_SIZE,EPOCH)"
   ]
  },
  {
   "cell_type": "code",
   "execution_count": 64,
   "metadata": {},
   "outputs": [
    {
     "name": "stdout",
     "output_type": "stream",
     "text": [
      "accuracy\n",
      "loss\n"
     ]
    },
    {
     "data": {
      "image/png": "[encoded data removed]",
      "text/plain": [
       "<matplotlib.figure.Figure at 0x282c8a17c88>"
      ]
     },
     "metadata": {},
     "output_type": "display_data"
    },
    {
     "data": {
      "image/png": "[encoded data removed]",
      "text/plain": [
       "<matplotlib.figure.Figure at 0x282c8816e10>"
      ]
     },
     "metadata": {},
     "output_type": "display_data"
    }
   ],
   "source": [
    "# line plot of results\n",
    "print('accuracy')\n",
    "results.plot()\n",
    "print('loss')\n",
    "lossresults.plot()\n",
    "\n",
    "pyplot.show()"
   ]
  }
 ],
 "metadata": {
  "kernelspec": {
   "display_name": "Python 3",
   "language": "python",
   "name": "python3"
  },
  "language_info": {
   "codemirror_mode": {
    "name": "ipython",
    "version": 3
   },
   "file_extension": ".py",
   "mimetype": "text/x-python",
   "name": "python",
   "nbconvert_exporter": "python",
   "pygments_lexer": "ipython3",
   "version": "3.6.2"
  }
 },
 "nbformat": 4,
 "nbformat_minor": 2
}
